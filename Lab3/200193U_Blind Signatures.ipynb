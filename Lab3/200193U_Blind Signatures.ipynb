{
 "cells": [
  {
   "cell_type": "markdown",
   "id": "4069644f",
   "metadata": {},
   "source": [
    "# Implementation of a Blind Signature Scheme with RSA\n",
    "\n",
    "- Index Number - 200193U\n",
    "- Name - Chathura Gunasekara\n",
    "\n",
    "## Added capabilities\n",
    "1. Allow the use of a large prime number p and q (for example, a 32 bit number)\n",
    "2. Allow for an arbitrary size file to be read from the disk as input message for generating a blind signature\n",
    "3. Allow for the blind signature to be written to the disk\n",
    "4. Allow for a message and a blind signature read from the disk to be verified after extracting the signature on the original message"
   ]
  },
  {
   "cell_type": "code",
   "execution_count": 103,
   "id": "a1c4bee0",
   "metadata": {},
   "outputs": [],
   "source": [
    "# import necessary libraries\n",
    "import random"
   ]
  },
  {
   "cell_type": "markdown",
   "id": "ae2efd20",
   "metadata": {},
   "source": [
    "## Utility Functions\n",
    "The following functions are used to provide utility functions for the protocol.\n",
    "1. Miller-Rabin primality test\n",
    "2. Large prime number generation function\n",
    "3. Prime factorization function\n",
    "4. Find the generator of a group\n",
    "5. Modular exponentiation function\n",
    "6. Greatest common divisor function\n",
    "7. Extended Euclidean algorithm function\n",
    "\n",
    "## File Handling Functions\n",
    "The following functions are used to provide file handling functions for the protocol.\n",
    "1. Read file function\n",
    "2. Write file function"
   ]
  },
  {
   "cell_type": "markdown",
   "id": "16588b44",
   "metadata": {},
   "source": [
    "### Miller-Rabin primality test\n",
    "This function takes a number `n` and a number of iterations `k` as input and tests if the number is prime using the Miller-Rabin primality test. The function returns `True` if the number is prime and `False` if the number is composite.\n",
    "\n",
    "### Large prime number generation function\n",
    "This function takes the number of bits as its input and generates a random number and tests for primality using the Miller-Rabin primality test. If the number is prime, it returns the number, else it generates another random number and repeats the process until a prime number is found."
   ]
  },
  {
   "cell_type": "code",
   "execution_count": 104,
   "id": "aa627dbf",
   "metadata": {},
   "outputs": [],
   "source": [
    "# Function to perform Miller-Rabin primality test\n",
    "def miller_rabin_test(n, k=5):\n",
    "    # If n is 2 or 3, it's prime\n",
    "    if n == 2 or n == 3:\n",
    "        return True\n",
    "    # If n is less than 2 or even, it's not prime\n",
    "    if n <= 1 or n % 2 == 0:\n",
    "        return False\n",
    "    \n",
    "    # Write n-1 as d * 2^r\n",
    "    r, d = 0, n - 1\n",
    "    while d % 2 == 0:\n",
    "        r += 1\n",
    "        d //= 2\n",
    "    \n",
    "    # Perform k rounds of Miller-Rabin test\n",
    "    for _ in range(k):\n",
    "        a = random.randint(2, n - 2)\n",
    "        x = pow(a, d, n)\n",
    "        if x == 1 or x == n - 1:\n",
    "            continue\n",
    "        for _ in range(r - 1):\n",
    "            x = pow(x, 2, n)\n",
    "            if x == n - 1:\n",
    "                break\n",
    "        else:\n",
    "            return False\n",
    "    return True\n",
    "\n",
    "# Function to find a large prime number using Miller-Rabin\n",
    "def find_large_prime(bits):\n",
    "    while True:\n",
    "        # Generate a random number with the specified bit length\n",
    "        p = random.getrandbits(bits)\n",
    "        # Ensure p is odd\n",
    "        p |= (1 << bits - 1) | 1\n",
    "        # Check if p is prime using Miller-Rabin test\n",
    "        if miller_rabin_test(p):\n",
    "            return p"
   ]
  },
  {
   "cell_type": "code",
   "execution_count": 105,
   "id": "2e6062da",
   "metadata": {},
   "outputs": [
    {
     "name": "stdout",
     "output_type": "stream",
     "text": [
      "Miller Rabin - All tests passed\n",
      "Find Large prime - All tests passed\n"
     ]
    }
   ],
   "source": [
    "# Tests for the Miller-Rabin primality test (set of known tests)\n",
    "def test_miller_rabin():\n",
    "    # Known prime numbers\n",
    "    primes = [2, 3, 5, 7, 11, 13, 17, 19, 23, 29, 31, 37, 41, 43, 47, 53, 59, 61, 67, 71, 73, 79, 83, 89, 97]\n",
    "    # Known composite numbers\n",
    "    composites = [1, 4, 6, 8, 9, 10, 12, 14, 15, 16, 18, 20, 21, 22, 24, 25, 26, 27, 28, 30, 32, 33, 34, 35, 36, 38, 39, 40, 42, 44, 45, 46, 48, 49, 50, 51, 52, 54, 55, 56, 57, 58, 60, 62, 63, 64, 65, 66, 68, 69, 70, 72, 74, 75, 76, 77, 78, 80, 81, 82, 84, 85, 86, 87, 88, 90, 91, 92, 93, 94, 95, 96, 98, 99, 100]\n",
    "    \n",
    "    # Test known prime numbers\n",
    "    for p in primes:\n",
    "        assert miller_rabin_test(p), f\"{p} is prime\"\n",
    "    # Test known composite numbers\n",
    "    for c in composites:\n",
    "        assert not miller_rabin_test(c), f\"{c} is composite\"\n",
    "    print(\"Miller Rabin - All tests passed\")\n",
    "\n",
    "# Tests for the find_large_prime function\n",
    "def test_find_large_prime():\n",
    "    # Test for a 32-bit prime number\n",
    "    p = find_large_prime(32)\n",
    "    assert miller_rabin_test(p), f\"{p} is prime\"\n",
    "    # Test for a 64-bit prime number\n",
    "    p = find_large_prime(64)\n",
    "    assert miller_rabin_test(p), f\"{p} is prime\"\n",
    "    # Test for a 128-bit prime number\n",
    "    p = find_large_prime(128)\n",
    "    assert miller_rabin_test(p), f\"{p} is prime\"\n",
    "    print(\"Find Large prime - All tests passed\")\n",
    "\n",
    "# Run the tests\n",
    "test_miller_rabin()\n",
    "test_find_large_prime()\n"
   ]
  },
  {
   "cell_type": "markdown",
   "id": "f4f1f7e1",
   "metadata": {},
   "source": [
    "### Modular exponentiation function\n",
    "This function takes three numbers `g`, `s`, and `p` as input and calculates the modular exponentiation of `g^s mod p`. The algorithm efficiently calculates the modular exponentiation using **Exponentiation by Squaring**"
   ]
  },
  {
   "cell_type": "code",
   "execution_count": 106,
   "id": "ef53b4e6",
   "metadata": {},
   "outputs": [],
   "source": [
    "# Function for modular exponentiation\n",
    "def modular_exponentiation(g, s, p):\n",
    "    result = 1\n",
    "    \n",
    "    # Update g to be within the modulus\n",
    "    g = g % p \n",
    "\n",
    "    while s > 0:\n",
    "        # If s is odd, multiply g with the result\n",
    "        if s % 2 == 1:\n",
    "            result = (result * g) % p\n",
    "\n",
    "        # s must be even now\n",
    "        s = s // 2\n",
    "        g = (g * g) % p  # Square g\n",
    "    return result\n"
   ]
  },
  {
   "cell_type": "code",
   "execution_count": 107,
   "id": "1cee83ae",
   "metadata": {},
   "outputs": [
    {
     "name": "stdout",
     "output_type": "stream",
     "text": [
      "Modular Exponentiation - All tests passed\n"
     ]
    }
   ],
   "source": [
    "# Tests for the modular_exponentiation function\n",
    "def test_modular_exponentiation():\n",
    "    # Test for 2^3 mod 5\n",
    "    assert modular_exponentiation(2, 3, 5) == 3\n",
    "    # Test for 3^4 mod 7\n",
    "    assert modular_exponentiation(3, 4, 7) == 4\n",
    "    # Test for 5^5 mod 11\n",
    "    assert modular_exponentiation(5, 5, 11) == 1\n",
    "    # Test for 7^6 mod 13\n",
    "    assert modular_exponentiation(7, 6, 13) == 12\n",
    "    # Test for 11^7 mod 17\n",
    "    assert modular_exponentiation(11, 7, 17) == 3\n",
    "    print(\"Modular Exponentiation - All tests passed\")\n",
    "\n",
    "# Run the tests\n",
    "test_modular_exponentiation()"
   ]
  },
  {
   "cell_type": "markdown",
   "id": "cdc33390",
   "metadata": {},
   "source": [
    "### Greatest Common Divisor\n",
    "This function takes two numbers `a` and `b` as input and returns the greatest common divisor of the two numbers using the Euclidean algorithm.\n",
    "\n",
    "### Extended Euclidean algorithm\n",
    "This function takes two numbers `a` and `b` as input and returns the greatest common divisor of the two numbers and the coefficients `x` and `y` such that `ax + by = gcd(a, b)`. "
   ]
  },
  {
   "cell_type": "code",
   "execution_count": 108,
   "id": "4d75e8c5",
   "metadata": {},
   "outputs": [],
   "source": [
    "# Function to get the greatest common divisor of two numbers\n",
    "def gcd(a, b):\n",
    "    if((a<0) or (b<0) or (a<b)):\n",
    "        print(\"Invalid input\")\n",
    "        return\n",
    "\n",
    "    while(b != 0):\n",
    "        r = a % b\n",
    "        a = b\n",
    "        b = r\n",
    "        \n",
    "    return a\n",
    "\n",
    "# Function for the extended Euclidean algorithm\n",
    "def extended_gcd(a, b):\n",
    "    if b == 0:\n",
    "        return a, 1, 0\n",
    "    else:\n",
    "        d, x, y = extended_gcd(b, a % b)\n",
    "        return d, y, x - y * (a // b)"
   ]
  },
  {
   "cell_type": "code",
   "execution_count": 109,
   "id": "9829148b",
   "metadata": {},
   "outputs": [
    {
     "name": "stdout",
     "output_type": "stream",
     "text": [
      "GCD - All tests passed\n",
      "Extended GCD - All tests passed\n"
     ]
    }
   ],
   "source": [
    "# Tests for the gcd function\n",
    "def test_gcd():\n",
    "    # Test for gcd of 12 and 15\n",
    "    assert gcd(15, 12) == 3\n",
    "    # Test for gcd of 21 and 35\n",
    "    assert gcd(35, 21) == 7\n",
    "    # Test for gcd of 77 and 143\n",
    "    assert gcd(143, 77) == 11\n",
    "    # Test for gcd of 121 and 242\n",
    "    assert gcd(242, 121) == 121\n",
    "    # Test for gcd of 256 and 512\n",
    "    assert gcd(512, 256) == 256\n",
    "    print(\"GCD - All tests passed\")\n",
    "\n",
    "# Tests for the extended_gcd function\n",
    "def test_extended_gcd():\n",
    "    # Test for extended gcd of 12 and 15\n",
    "    d, x, y = extended_gcd(15, 12)\n",
    "    assert d == 3 and x == 1 and y == -1\n",
    "    # Test for extended gcd of 21 and 35\n",
    "    d, x, y = extended_gcd(35, 21)\n",
    "    assert d == 7 and x == -1 and y == 2\n",
    "    # Test for extended gcd of 77 and 143\n",
    "    d, x, y = extended_gcd(143, 77)\n",
    "    assert d == 11 and x == -1 and y == 2\n",
    "    # Test for extended gcd of 121 and 242\n",
    "    d, x, y = extended_gcd(242, 121)\n",
    "    assert d == 121 and x == 0 and y == 1\n",
    "    # Test for extended gcd of 256 and 512\n",
    "    d, x, y = extended_gcd(512, 256)\n",
    "    assert d == 256 and x == 0 and y == 1\n",
    "    print(\"Extended GCD - All tests passed\")\n",
    "\n",
    "# Run the tests\n",
    "test_gcd()\n",
    "test_extended_gcd()"
   ]
  },
  {
   "cell_type": "markdown",
   "id": "46cc641c",
   "metadata": {},
   "source": [
    "## File Handling Functions\n",
    "\n",
    "### Read file function\n",
    "This function takes a filename as input and reads the contents of the file and returns the contents as a string.\n",
    "\n",
    "### Write file function\n",
    "This function takes a filename and data as input and writes the data to the file."
   ]
  },
  {
   "cell_type": "code",
   "execution_count": 110,
   "id": "debb33c1",
   "metadata": {},
   "outputs": [],
   "source": [
    "# Function to read a file and return its contents\n",
    "def read_file(file_name):\n",
    "    with open(file_name, 'r') as file:\n",
    "        return file.read()\n",
    "    \n",
    "# Function to write data to a file\n",
    "def write_file(file_name, data):\n",
    "    with open(file_name, 'w') as file:\n",
    "        file.write(data)"
   ]
  },
  {
   "cell_type": "markdown",
   "id": "71304b24",
   "metadata": {},
   "source": [
    "## RSA: Key pair generation\n",
    "\n",
    "- $p, q$ - large prime numbers\n",
    "- $n = pq$ - modulus\n",
    "- $\\phi(n) = (p-1)(q-1)$ - Euler's totient function\n",
    "- $e$ - public exponent\n",
    "- $d$ - private exponent"
   ]
  },
  {
   "cell_type": "code",
   "execution_count": 111,
   "id": "35d9e1fc",
   "metadata": {},
   "outputs": [
    {
     "name": "stdout",
     "output_type": "stream",
     "text": [
      "------------ Prime Numbers ------------\n",
      "p: 3498937801\n",
      "q: 3512679307\n",
      "---------------------------------------\n",
      "Prime composite (n)                  : 12290646410052783907\n",
      "Euler totient function of n (phi_n)  : 12290646403041166800\n",
      "---------------------------------------\n",
      "Secret key (d)                       : 11987398234316361473\n",
      "Public key (e,n)                     : 65537, 12290646410052783907\n"
     ]
    }
   ],
   "source": [
    "# Generate two large prime numbers p and q\n",
    "p = find_large_prime(32)\n",
    "q = find_large_prime(32)\n",
    "e = 65537\n",
    "\n",
    "# Calculate n = p * q\n",
    "n = p * q\n",
    "# Euler totient function of n\n",
    "phi_n = (p-1)*(q-1)\n",
    "\n",
    "# Ensure e and phi_n are coprime and e is less than phi_n\n",
    "assert gcd(phi_n, e) == 1 and e < phi_n, \"e and phi_n are not coprime\"\n",
    "\n",
    "# Find the modular multiplicative inverse of e mod phi_n\n",
    "d = extended_gcd(e, phi_n)[1] % phi_n\n",
    "\n",
    "print('------------ Prime Numbers ------------')\n",
    "print('p:', p)\n",
    "print('q:', q)\n",
    "print('---------------------------------------')\n",
    "print('Prime composite (n)                  :', n)\n",
    "print('Euler totient function of n (phi_n)  :', phi_n)\n",
    "print('---------------------------------------')\n",
    "print('Secret key (d)                       :', d)\n",
    "print(f'Public key (e,n)                     : {e}, {n}')"
   ]
  },
  {
   "cell_type": "markdown",
   "id": "9f1e1bf3",
   "metadata": {},
   "source": [
    "## Verifying Key Pair using RSA Public Key Encryption"
   ]
  },
  {
   "cell_type": "code",
   "execution_count": 112,
   "id": "43ed18aa",
   "metadata": {},
   "outputs": [
    {
     "name": "stdout",
     "output_type": "stream",
     "text": [
      "Plaintext (m): 3388189868575018481\n",
      "Ciphertext (c): 773709462365132449\n",
      "Decrypted message (m): 3388189868575018481\n"
     ]
    }
   ],
   "source": [
    "# Message for signing\n",
    "m = read_file('message.txt')\n",
    "m = abs(hash(m))\n",
    "print('Plaintext (m):', m)\n",
    "\n",
    "# Public Key Encryption\n",
    "c = modular_exponentiation(m, e, n)\n",
    "print('Ciphertext (c):', c)\n",
    "\n",
    "# Public Key Decryption\n",
    "m1 = modular_exponentiation(c, d, n)\n",
    "print('Decrypted message (m):', m1)"
   ]
  },
  {
   "cell_type": "markdown",
   "id": "654818b2",
   "metadata": {},
   "source": [
    "## Blind Signature Generation"
   ]
  },
  {
   "cell_type": "code",
   "execution_count": 113,
   "id": "18b8c194",
   "metadata": {},
   "outputs": [
    {
     "name": "stdout",
     "output_type": "stream",
     "text": [
      "Blinding factor: 8737691064108439043\n",
      "Blinded message: 7243600580449947698\n",
      "Signature on blinded message: 5249225632043937546\n"
     ]
    }
   ],
   "source": [
    "# Generate blinding factor\n",
    "k = find_large_prime(32)\n",
    "bf = modular_exponentiation(k, e, n)\n",
    "print('Blinding factor:', bf)\n",
    "\n",
    "# Blinding the message\n",
    "m1 = (m*bf)%n\n",
    "print('Blinded message:',m1)\n",
    "\n",
    "# Signing the blinded message\n",
    "s1 = modular_exponentiation(m1, d, n)\n",
    "print('Signature on blinded message:',s1)\n",
    "\n",
    "# Save the signature to a file\n",
    "write_file('signature.txt', str(s1))"
   ]
  },
  {
   "cell_type": "code",
   "execution_count": 114,
   "id": "a96b47cd",
   "metadata": {},
   "outputs": [
    {
     "name": "stdout",
     "output_type": "stream",
     "text": [
      "Signature on original message: 5464571021981162957\n",
      "Signature on original message when directly computed: 5464571021981162957\n",
      "Signature verified\n"
     ]
    }
   ],
   "source": [
    "# Reading the signature from the file\n",
    "s1 = int(read_file('signature.txt'))\n",
    "\n",
    "# Readding the message from the file\n",
    "m = read_file('message.txt')\n",
    "m = abs(hash(m))\n",
    "\n",
    "# Inverse of k\n",
    "invk = extended_gcd(k, n)[1] % n \n",
    "\n",
    "# Unblinding the signature\n",
    "s = (s1*invk) % n\n",
    "print('Signature on original message:',s)\n",
    "\n",
    "# Computing the signature directly\n",
    "s0 = modular_exponentiation(m, d, n)\n",
    "print('Signature on original message when directly computed:',s0)\n",
    "\n",
    "# Verify the signature\n",
    "if(s == s0):\n",
    "    print('Signature verified')"
   ]
  },
  {
   "cell_type": "markdown",
   "id": "7f59fe0b",
   "metadata": {},
   "source": [
    "## Conclusion\n",
    "\n",
    "Optimizations were done to achieve performance improvements.\n",
    "1. The Miller-Rabin primality test was used to generate large prime numbers.\n",
    "2. The Extended Euclidean algorithm was used to calculate the modular inverse.\n",
    "3. The Exponentiation by Squaring algorithm was used to calculate the modular exponentiation.\n",
    "\n",
    "Signed message is written to the disk and can be verified using the public key. The signed message is then read from the disk and verified using the public key."
   ]
  },
  {
   "cell_type": "markdown",
   "id": "a5ff447d",
   "metadata": {},
   "source": []
  }
 ],
 "metadata": {
  "kernelspec": {
   "display_name": "base",
   "language": "python",
   "name": "python3"
  },
  "language_info": {
   "codemirror_mode": {
    "name": "ipython",
    "version": 3
   },
   "file_extension": ".py",
   "mimetype": "text/x-python",
   "name": "python",
   "nbconvert_exporter": "python",
   "pygments_lexer": "ipython3",
   "version": "3.9.13"
  }
 },
 "nbformat": 4,
 "nbformat_minor": 5
}
