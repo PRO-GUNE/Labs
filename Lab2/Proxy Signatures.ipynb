{
 "cells": [
  {
   "cell_type": "markdown",
   "id": "4069644f",
   "metadata": {},
   "source": [
    "# Basic Proxy Signature Protocol for Partial Delegation"
   ]
  },
  {
   "cell_type": "code",
   "execution_count": 1,
   "id": "a1c4bee0",
   "metadata": {},
   "outputs": [],
   "source": [
    "# import necessary libraries\n",
    "import random\n",
    "import hashlib"
   ]
  },
  {
   "cell_type": "markdown",
   "id": "ae2efd20",
   "metadata": {},
   "source": [
    "## Helper Functions\n",
    "The following functions are used to provide utility functions for the protocol.\n",
    "1. Miller-Rabin primality test\n",
    "2. Large prime number generation function\n",
    "3. Prime factorization function\n",
    "4. Find the generator of a group\n",
    "5. Modular exponentiation function"
   ]
  },
  {
   "cell_type": "markdown",
   "id": "16588b44",
   "metadata": {},
   "source": [
    "### Miller-Rabin primality test\n",
    "This function takes a number `n` and a number of iterations `k` as input and tests if the number is prime using the Miller-Rabin primality test. The function returns `True` if the number is prime and `False` if the number is composite. The function uses the following steps to test for primality:\n",
    "\n",
    "### Large prime number generation function\n",
    "This function takes the number of bits as its input and generates a random number and tests for primality using the Miller-Rabin primality test. If the number is prime, it returns the number, else it generates another random number and repeats the process until a prime number is found."
   ]
  },
  {
   "cell_type": "code",
   "execution_count": 3,
   "id": "aa627dbf",
   "metadata": {},
   "outputs": [],
   "source": [
    "# Function to perform Miller-Rabin primality test\n",
    "def miller_rabin_test(n, k=5):\n",
    "    # If n is 2 or 3, it's prime\n",
    "    if n == 2 or n == 3:\n",
    "        return True\n",
    "    # If n is less than 2 or even, it's not prime\n",
    "    if n <= 1 or n % 2 == 0:\n",
    "        return False\n",
    "    \n",
    "    # Write n-1 as d * 2^r\n",
    "    r, d = 0, n - 1\n",
    "    while d % 2 == 0:\n",
    "        r += 1\n",
    "        d //= 2\n",
    "    \n",
    "    # Perform k rounds of Miller-Rabin test\n",
    "    for _ in range(k):\n",
    "        a = random.randint(2, n - 2)\n",
    "        x = pow(a, d, n)\n",
    "        if x == 1 or x == n - 1:\n",
    "            continue\n",
    "        for _ in range(r - 1):\n",
    "            x = pow(x, 2, n)\n",
    "            if x == n - 1:\n",
    "                break\n",
    "        else:\n",
    "            return False\n",
    "    return True\n",
    "\n",
    "# Function to find a large prime number using Miller-Rabin\n",
    "def find_large_prime(bits):\n",
    "    while True:\n",
    "        # Generate a random number with the specified bit length\n",
    "        p = random.getrandbits(bits)\n",
    "        # Ensure p is odd\n",
    "        p |= (1 << bits - 1) | 1\n",
    "        # Check if p is prime using Miller-Rabin test\n",
    "        if miller_rabin_test(p):\n",
    "            return p"
   ]
  },
  {
   "cell_type": "code",
   "execution_count": 5,
   "id": "2e6062da",
   "metadata": {},
   "outputs": [
    {
     "name": "stdout",
     "output_type": "stream",
     "text": [
      "Miller Rabin - All tests passed\n",
      "Find Large prime - All tests passed\n"
     ]
    }
   ],
   "source": [
    "# Tests for the Miller-Rabin primality test (set of known tests)\n",
    "def test_miller_rabin():\n",
    "    # Known prime numbers\n",
    "    primes = [2, 3, 5, 7, 11, 13, 17, 19, 23, 29, 31, 37, 41, 43, 47, 53, 59, 61, 67, 71, 73, 79, 83, 89, 97]\n",
    "    # Known composite numbers\n",
    "    composites = [1, 4, 6, 8, 9, 10, 12, 14, 15, 16, 18, 20, 21, 22, 24, 25, 26, 27, 28, 30, 32, 33, 34, 35, 36, 38, 39, 40, 42, 44, 45, 46, 48, 49, 50, 51, 52, 54, 55, 56, 57, 58, 60, 62, 63, 64, 65, 66, 68, 69, 70, 72, 74, 75, 76, 77, 78, 80, 81, 82, 84, 85, 86, 87, 88, 90, 91, 92, 93, 94, 95, 96, 98, 99, 100]\n",
    "    \n",
    "    # Test known prime numbers\n",
    "    for p in primes:\n",
    "        assert miller_rabin_test(p), f\"{p} is prime\"\n",
    "    # Test known composite numbers\n",
    "    for c in composites:\n",
    "        assert not miller_rabin_test(c), f\"{c} is composite\"\n",
    "    print(\"Miller Rabin - All tests passed\")\n",
    "\n",
    "# Tests for the find_large_prime function\n",
    "def test_find_large_prime():\n",
    "    # Test for a 32-bit prime number\n",
    "    p = find_large_prime(32)\n",
    "    assert miller_rabin_test(p), f\"{p} is prime\"\n",
    "    # Test for a 64-bit prime number\n",
    "    p = find_large_prime(64)\n",
    "    assert miller_rabin_test(p), f\"{p} is prime\"\n",
    "    # Test for a 128-bit prime number\n",
    "    p = find_large_prime(128)\n",
    "    assert miller_rabin_test(p), f\"{p} is prime\"\n",
    "    print(\"Find Large prime - All tests passed\")\n",
    "\n",
    "# Run the tests\n",
    "test_miller_rabin()\n",
    "test_find_large_prime()\n"
   ]
  },
  {
   "cell_type": "markdown",
   "id": "b3442ccb",
   "metadata": {},
   "source": [
    "### Prime factorization function\n",
    "This function takes a number `n` as input and returns the prime factorization of the number. The function uses the following steps to find the prime factorization of the number:\n",
    "\n",
    "### Find the generator of a group\n",
    "This function takes a prime number `p` as input and finds a generator of the group modulo `p`. The function uses the following steps to find a generator:"
   ]
  },
  {
   "cell_type": "code",
   "execution_count": 6,
   "id": "1a50af04",
   "metadata": {},
   "outputs": [],
   "source": [
    "# Function to perform prime factorization of n using trial division\n",
    "def prime_factors(n):\n",
    "    factors = []\n",
    "    \n",
    "    # Start with the smallest prime number\n",
    "    i = 2\n",
    "    \n",
    "    # Perform trial division to find all prime factors\n",
    "    while i * i <= n:\n",
    "        if n % i == 0:\n",
    "            # If i is a divisor of n, it's a prime factor\n",
    "            factors.append(i)\n",
    "            while n % i == 0:\n",
    "                n //= i\n",
    "        i += 1\n",
    "    \n",
    "    # If n is still greater than 1, then n is a prime factor\n",
    "    if n > 1:\n",
    "        factors.append(n)\n",
    "    \n",
    "    return factors\n",
    "\n",
    "\n",
    "# Function to find a generator for the multiplicative group modulo p\n",
    "def find_generator(p):\n",
    "    n = p - 1\n",
    "    factors = prime_factors(n)\n",
    "    unique_factors = set(factors)\n",
    "    while True:\n",
    "        g = random.randint(2, p - 2)\n",
    "        is_generator = True\n",
    "        for q in unique_factors:\n",
    "            b = pow(g, n // q, p)\n",
    "            if b == 1:\n",
    "                is_generator = False\n",
    "                break\n",
    "        if is_generator:\n",
    "            return g"
   ]
  },
  {
   "cell_type": "code",
   "execution_count": 7,
   "id": "eb22fc79",
   "metadata": {},
   "outputs": [
    {
     "name": "stdout",
     "output_type": "stream",
     "text": [
      "Prime Factorization - All tests passed\n",
      "Find Generator - All tests passed\n"
     ]
    }
   ],
   "source": [
    "# Tests for the prime_factors function\n",
    "def test_prime_factors():\n",
    "    # Test for prime factors of 12\n",
    "    assert prime_factors(12) == [2, 3]\n",
    "    # Test for prime factors of 15\n",
    "    assert prime_factors(15) == [3, 5]\n",
    "    # Test for prime factors of 21\n",
    "    assert prime_factors(21) == [3, 7]\n",
    "    # Test for prime factors of 35\n",
    "    assert prime_factors(35) == [5, 7]\n",
    "    # Test for prime factors of 77\n",
    "    assert prime_factors(77) == [7, 11]\n",
    "    # Test for prime factors of 143\n",
    "    assert prime_factors(143) == [11, 13]\n",
    "    print(\"Prime Factorization - All tests passed\")\n",
    "\n",
    "# Tests for the find_generator function\n",
    "def test_find_generator():\n",
    "    # Test for a 8-bit prime number\n",
    "    p = find_large_prime(8)\n",
    "    g = find_generator(p)\n",
    "    assert pow(g, p - 1, p) == 1, f\"{g} is a generator of {p}\"\n",
    "    # Test for a 16-bit prime number\n",
    "    p = find_large_prime(16)\n",
    "    g = find_generator(p)\n",
    "    assert pow(g, p - 1, p) == 1, f\"{g} is a generator of {p}\"\n",
    "    # Test for a 32-bit prime number\n",
    "    p = find_large_prime(32)\n",
    "    g = find_generator(p)\n",
    "    assert pow(g, p - 1, p) == 1, f\"{g} is a generator of {p}\"\n",
    "    print(\"Find Generator - All tests passed\")\n",
    "\n",
    "# Run the tests\n",
    "test_prime_factors()\n",
    "test_find_generator()"
   ]
  },
  {
   "cell_type": "markdown",
   "id": "f4f1f7e1",
   "metadata": {},
   "source": [
    "### Modular exponentiation function\n",
    "This function takes three numbers `g`, `s`, and `p` as input and calculates the modular exponentiation of `g^s mod p`. The algorithm efficiently calculates the modular exponentiation using **Exponentiation by Squaring**\n"
   ]
  },
  {
   "cell_type": "code",
   "execution_count": 9,
   "id": "ef53b4e6",
   "metadata": {},
   "outputs": [],
   "source": [
    "# Function for modular exponentiation\n",
    "def modular_exponentiation(g, s, p):\n",
    "    result = 1\n",
    "    \n",
    "    # Update g to be within the modulus\n",
    "    g = g % p \n",
    "\n",
    "    while s > 0:\n",
    "        # If s is odd, multiply g with the result\n",
    "        if s % 2 == 1:\n",
    "            result = (result * g) % p\n",
    "\n",
    "        # s must be even now\n",
    "        s = s // 2\n",
    "        g = (g * g) % p  # Square g\n",
    "    return result\n"
   ]
  },
  {
   "cell_type": "code",
   "execution_count": 11,
   "id": "1cee83ae",
   "metadata": {},
   "outputs": [
    {
     "name": "stdout",
     "output_type": "stream",
     "text": [
      "Modular Exponentiation - All tests passed\n"
     ]
    }
   ],
   "source": [
    "# Tests for the modular_exponentiation function\n",
    "def test_modular_exponentiation():\n",
    "    # Test for 2^3 mod 5\n",
    "    assert modular_exponentiation(2, 3, 5) == 3\n",
    "    # Test for 3^4 mod 7\n",
    "    assert modular_exponentiation(3, 4, 7) == 4\n",
    "    # Test for 5^5 mod 11\n",
    "    assert modular_exponentiation(5, 5, 11) == 1\n",
    "    # Test for 7^6 mod 13\n",
    "    assert modular_exponentiation(7, 6, 13) == 12\n",
    "    # Test for 11^7 mod 17\n",
    "    assert modular_exponentiation(11, 7, 17) == 3\n",
    "    print(\"Modular Exponentiation - All tests passed\")\n",
    "\n",
    "# Run the tests\n",
    "test_modular_exponentiation()"
   ]
  },
  {
   "cell_type": "markdown",
   "id": "30e7c614",
   "metadata": {},
   "source": [
    "## Greatest Common Divisor\n",
    "\n",
    "We need this function in the signature scheme as a utility function."
   ]
  },
  {
   "cell_type": "code",
   "execution_count": 7,
   "id": "4d75e8c5",
   "metadata": {},
   "outputs": [],
   "source": [
    "def gcd(a, b):\n",
    "    if((a<0) or (b<0) or (a<b)):\n",
    "        print(\"wrong parameter input\")\n",
    "        return\n",
    "\n",
    "    while(b != 0):\n",
    "        r = a % b\n",
    "        a = b\n",
    "        b = r\n",
    "        \n",
    "    return a"
   ]
  },
  {
   "cell_type": "code",
   "execution_count": null,
   "id": "dd17f22d",
   "metadata": {},
   "outputs": [],
   "source": []
  },
  {
   "cell_type": "markdown",
   "id": "71304b24",
   "metadata": {},
   "source": [
    "# Protocol\n",
    "\n",
    "## Setup: Key pair generation of original signer\n",
    "\n",
    "public parameter - modulus: prime $p$\n",
    "\n",
    "public parameter - generator for $Z^*_p$: $g$\n",
    "\n",
    "public key: v\n",
    "\n",
    "secret key: s\n",
    "\n",
    "__In this test implementation, only input needs to be given by the user is the prime modulus $p$.__"
   ]
  },
  {
   "cell_type": "code",
   "execution_count": 12,
   "id": "35d9e1fc",
   "metadata": {},
   "outputs": [
    {
     "name": "stdout",
     "output_type": "stream",
     "text": [
      "*public parameters*\n",
      "prime modulus (p): 2565451199\n",
      "generator     (g): 1205221578\n",
      "*key pair of original signer*\n",
      "public key    (v): 459246786\n",
      "secret key    (s): 546360169\n"
     ]
    }
   ],
   "source": [
    "# Find a large prime number\n",
    "p = find_large_prime(32)\n",
    "\n",
    "# Find a generator for the multiplicative group modulo p\n",
    "g = find_generator(p)\n",
    "\n",
    "# Generate a secret key s in Z_{p-1}/{0}\n",
    "s = random.randint(1,p-2) \n",
    "\n",
    "# Compute the public key v = g^s mod p\n",
    "v = modular_exponentiation(g,s,p)\n",
    "\n",
    "print('*public parameters*')\n",
    "print('prime modulus (p):',p)\n",
    "print('generator     (g):',g)\n",
    "\n",
    "print('*key pair of original signer*')\n",
    "print('public key    (v):',v)\n",
    "print('secret key    (s):',s)"
   ]
  },
  {
   "cell_type": "markdown",
   "id": "9f1e1bf3",
   "metadata": {},
   "source": [
    "## Step 1: Proxy generation\n",
    "\n",
    "Proxy: ($\\sigma$, K)"
   ]
  },
  {
   "cell_type": "code",
   "execution_count": null,
   "id": "b2502666",
   "metadata": {},
   "outputs": [
    {
     "name": "stdout",
     "output_type": "stream",
     "text": [
      "(just any) random number k: 6\n",
      "*proxy value pair for proxy signer*\n",
      "K    : 15\n",
      "sigma: 8\n"
     ]
    }
   ],
   "source": [
    "k = random.randint(1,p-2) # random number, Z_{p-1}/{0}\n",
    "print('(just any) random number k:',k)\n",
    "\n",
    "print('*proxy value pair for proxy signer*')\n",
    "\n",
    "bigk = (g**k)%p\n",
    "print('K    :',bigk)\n",
    "\n",
    "sigma = (s + k*bigk)%(p-1)\n",
    "print('sigma:',sigma)"
   ]
  },
  {
   "cell_type": "markdown",
   "id": "1257811c",
   "metadata": {},
   "source": [
    "## Step 2: Proxy delivery\n",
    "\n",
    "The proxy $(\\sigma,K)$, must be given by original signer to proxy signer securely.\n",
    "\n",
    "For example, using Diffie-Hellman to create a secure tunnel, this can be done."
   ]
  },
  {
   "cell_type": "markdown",
   "id": "77667dc9",
   "metadata": {},
   "source": [
    "## Step 3: Proxy verification"
   ]
  },
  {
   "cell_type": "code",
   "execution_count": null,
   "id": "13676852",
   "metadata": {},
   "outputs": [
    {
     "name": "stdout",
     "output_type": "stream",
     "text": [
      "LHS: 16\n",
      "RHS: 16\n",
      "Proxy Verification: Passed\n"
     ]
    }
   ],
   "source": [
    "lhs = (g**sigma)%p\n",
    "\n",
    "rhs = (v*(bigk**bigk))%p\n",
    "\n",
    "print('LHS:',lhs)\n",
    "print('RHS:',rhs)\n",
    "\n",
    "if(lhs==rhs):\n",
    "    print('Proxy Verification: Passed')\n",
    "else:\n",
    "    print('Proxy Verification: Failed')"
   ]
  },
  {
   "cell_type": "markdown",
   "id": "fd711b1a",
   "metadata": {},
   "source": [
    "## Step 4: Signing by the proxy signer\n",
    "\n",
    "We are going to use __ElGamal signature scheme__.\n",
    "\n",
    "The __ElGamal signing__ protocol to sign message $m$ where the secret key of the signer is $x$:\n",
    "1. Choose an integer $k$ randomly from $\\{ 2 \\ldots p−2 \\}$  with $k$ relatively prime to $p−1$.\n",
    "2. Compute $r \\equiv g^{k} \\pmod p$.\n",
    "3. Compute $s \\equiv (H(m)-xr)k^{-1} \\pmod {p-1}$.\n",
    "If s = 0, then start again with a different random k.\n",
    "\n",
    "The signature is $(r,s)$. \n",
    "\n",
    "When generating the proxy signature, use $\\sigma$ instead of the secret key $x$."
   ]
  },
  {
   "cell_type": "code",
   "execution_count": null,
   "id": "43ed18aa",
   "metadata": {},
   "outputs": [
    {
     "name": "stdout",
     "output_type": "stream",
     "text": [
      "message (m): 9\n",
      "(a special) random number k: 3 (found after 1 tries. This is relatively prime to p-1 = 16 )\n",
      "r : 10\n",
      "s1: -71\n"
     ]
    }
   ],
   "source": [
    "m = random.randint(1,p-1) # message for signing. Consider this as H(m) in 1 ... p-1\n",
    "print('message (m):',m)\n",
    "\n",
    "k = 0\n",
    "\n",
    "for i in range (1000): # this number 1000 is just a random value for the number of tries\n",
    "    k = random.randint(2,p-2) # random number k is in {2 ... (p-2)} and gcd(k,(p-1))=1\n",
    "    #print('testing',i,'th random number k:',k)\n",
    "\n",
    "    d = gcd(p-1,k)\n",
    "    if(d==1):\n",
    "        break\n",
    "        \n",
    "print('(a special) random number k:',k,'(found after',i,'tries. This is relatively prime to p-1 =',p-1,')')\n",
    "\n",
    "r = (g**k)%p\n",
    "print('r :',r)\n",
    "\n",
    "s1 = m - (sigma*r) # in place of s, use sigma, theproxy secret\n",
    "print('s1:',s1)"
   ]
  },
  {
   "cell_type": "code",
   "execution_count": null,
   "id": "1fcb653f",
   "metadata": {},
   "outputs": [
    {
     "name": "stdout",
     "output_type": "stream",
     "text": [
      "Modulo inverse of k mod q: 11 (for 3 mod 16 )\n"
     ]
    }
   ],
   "source": [
    "# calculate k * i mod q for i = 0 to q-1\n",
    "q = p-1\n",
    "invk = 0\n",
    "for i in range(0,q):\n",
    "    l = (k*i)%q\n",
    "    if(l==1):\n",
    "        invk = i\n",
    "        print('Modulo inverse of k mod q:',invk,'(for',k,'mod',q,')')\n",
    "        break"
   ]
  },
  {
   "cell_type": "code",
   "execution_count": null,
   "id": "83e0440d",
   "metadata": {},
   "outputs": [
    {
     "name": "stdout",
     "output_type": "stream",
     "text": [
      "s: 3\n",
      "The proxy signed message is (m,(r,s),K):( 9 ( 10 , 3 ) 15 )\n"
     ]
    }
   ],
   "source": [
    "s = (s1*invk)%(p-1)\n",
    "print('s:',s)\n",
    "print('The proxy signed message is (m,(r,s),K):(',m,'(',r,',',s,')',bigk,')')"
   ]
  },
  {
   "cell_type": "markdown",
   "id": "f547e51f",
   "metadata": {},
   "source": [
    "## Step 5: Verification of the proxy signature\n",
    "\n",
    "The new public key $v' \\equiv vK^K \\pmod p$"
   ]
  },
  {
   "cell_type": "markdown",
   "id": "0d7f64f1",
   "metadata": {},
   "source": [
    "The __ElGamal signature verification__ protocol to verify a signed message $m$ with signature $(r,s)$ where the public key of the signer is $y$:\n",
    "1. Verify that $0 < r < p$ and $0 < s < p − 1$.\n",
    "2. Verify that $g^{H(m)} \\equiv y^r r^s \\pmod p$."
   ]
  },
  {
   "cell_type": "code",
   "execution_count": null,
   "id": "ecb2d1dc",
   "metadata": {},
   "outputs": [
    {
     "name": "stdout",
     "output_type": "stream",
     "text": [
      "r = 10 , s = 3 , p = 17\n",
      "Verification Check 1: Passed\n"
     ]
    }
   ],
   "source": [
    "print('r =',r,', s =',s,', p =',p)\n",
    "check1 = False\n",
    "check2 = False\n",
    "# Verification Check 1\n",
    "if (0<r) & (r<p):\n",
    "    if (0<s) & (s<(p-1)):\n",
    "        check1 = True\n",
    "        print('Verification Check 1: Passed')\n",
    "    else:\n",
    "        print('Verification Check 1: Failed')\n",
    "else:\n",
    "    print('Verification Check 1: Failed')"
   ]
  },
  {
   "cell_type": "code",
   "execution_count": null,
   "id": "7c2cd315",
   "metadata": {},
   "outputs": [
    {
     "name": "stdout",
     "output_type": "stream",
     "text": [
      "LHS: 14\n",
      "RHS: 14\n",
      "Verification Check 2: Passed\n"
     ]
    }
   ],
   "source": [
    "# Verification check 2\n",
    "y = rhs # this is the proxy public key y = VK^K mod p\n",
    "\n",
    "lhs = (g**m)%p\n",
    "\n",
    "rhs = ((y**r)*(r**s))%p\n",
    "\n",
    "print('LHS:',lhs)\n",
    "print('RHS:',rhs)\n",
    "\n",
    "if(lhs==rhs):\n",
    "    check2 = True\n",
    "    print('Verification Check 2: Passed')\n",
    "else:\n",
    "    print('Verification Check 2: Failed')"
   ]
  },
  {
   "cell_type": "code",
   "execution_count": null,
   "id": "a0c9713b",
   "metadata": {},
   "outputs": [
    {
     "name": "stdout",
     "output_type": "stream",
     "text": [
      "Proxy signature verification: Passed\n"
     ]
    }
   ],
   "source": [
    "if(check1 & check2):\n",
    "    print('Proxy signature verification: Passed')\n",
    "else:\n",
    "    print('Proxy signature verification: Failed')"
   ]
  },
  {
   "cell_type": "code",
   "execution_count": null,
   "id": "faf60877",
   "metadata": {},
   "outputs": [],
   "source": []
  }
 ],
 "metadata": {
  "kernelspec": {
   "display_name": "Python 3 (ipykernel)",
   "language": "python",
   "name": "python3"
  },
  "language_info": {
   "codemirror_mode": {
    "name": "ipython",
    "version": 3
   },
   "file_extension": ".py",
   "mimetype": "text/x-python",
   "name": "python",
   "nbconvert_exporter": "python",
   "pygments_lexer": "ipython3",
   "version": "3.9.13"
  }
 },
 "nbformat": 4,
 "nbformat_minor": 5
}
